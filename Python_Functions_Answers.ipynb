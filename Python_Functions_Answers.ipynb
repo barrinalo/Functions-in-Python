{
 "cells": [
  {
   "cell_type": "markdown",
   "metadata": {},
   "source": [
    "# Functions - CU MedTech\n",
    "## Preamble\n",
    "This is a continuation from the Introduction to Programming course. This tutorial might be a bit more abstract. However, try not to be put off, because becoming more familiar with functions will improve your understanding more than learning how to code.\n",
    "## Using Functions for code re-use\n",
    "If you tried the exercise on developing a quiz generator based on the hypertension treatment flow chart, you would have realised that you started to type the same code over and over again, but with some slight variations. To save the time and effort of re-writing code the use of **functions** is important. In python, you **define** a function using the `def` keyword like so `def my_function():`. The naming rules for functions are similar to variables. However, note that the `()` is not part of the function name but defines the **arguments** that the function will **accept**. We will explore this further later, but for now, fill in the function below with any code you wish e.g `print(\"hello world\")` and **call** the function by typing the function name with the brackets like so `my_function()`.  \n",
    "1. What happens when you define the function but don't call it?\n",
    "2. What happens when you call the function multiple times?"
   ]
  },
  {
   "cell_type": "code",
   "execution_count": null,
   "metadata": {},
   "outputs": [],
   "source": [
    "def my_function():\n",
    "    #put the code you wish to include in the function here"
   ]
  },
  {
   "cell_type": "markdown",
   "metadata": {},
   "source": [
    "## Scope\n",
    "As you can see, functions allow you to write code once and use it as many times as you see fit. However, the function above is not particularly useful, because it is difficult to see how you might **generalise** it to cover a range of use cases. For instance, the **NEWS** metric is dependent on several basic obs, and if you were to create a function to calculate the NEWS metric, you would need to be able to define those basic obs **when you call the function** rather than hard-code it into the function itself. It might be possible to do something like this, if you run the code block below."
   ]
  },
  {
   "cell_type": "code",
   "execution_count": null,
   "metadata": {},
   "outputs": [],
   "source": [
    "def my_function():\n",
    "    print(x + 5)\n",
    "x = 10\n",
    "my_function()\n",
    "x = 20\n",
    "my_function()"
   ]
  },
  {
   "cell_type": "markdown",
   "metadata": {},
   "source": [
    "In this case, the function prints 5 plus whatever the variable `x` is. This program works because of **scope** and how the computer checks various **scopes** through the process of **bubbling** for lack of a better word. Briefly, **scope** refers to whether a particular variable is visible to the current block of code or not, and **bubbling** refers to the process of checking larger and larger blocks of code if a variable is used and not present in the current **scope**. We will go into this in more detail later. However, the function above is prone to error, because if the variable `x` is not defined outside of the function, there will be an error. Furthermore, because the variable `x` can be shared across multiple functions, changing it will affect not only the function you intended and can cause **side effects**. A whole paradigm called **functional programming** is devoted to programming using **only pure functions**, of which one of the advantages is to eliminate such side effects.  \n",
    "\n",
    "## Function Arguments\n",
    "  \n",
    "In order to reduce this external dependency, you need to add **arguments** to your function definition. An **argument** is a variable name placed in the brackets of a function definition. The names of these variables follow normal variable naming conventions and can be anything you want, **even the name of a variable you have already previously defined.** The definition and manipulation of the variables in the function will **not normally** affect variables on the outside, although there are exceptions.  \n",
    "\n",
    "You can specify several arguments by separating them with commas like so `def my_function(a,b,c):`. Now can you modify the function below to include heart rate based on the NEWS guideline here.  \n",
    "![](img/news.jpg)"
   ]
  },
  {
   "cell_type": "code",
   "execution_count": null,
   "metadata": {},
   "outputs": [],
   "source": [
    "def NEWS_Calculator(resp_rate):\n",
    "    if resp_rate <= 8:\n",
    "        print(3)\n",
    "    elif 9 <= resp_rate <= 11:\n",
    "        print(1)\n",
    "    elif 12 <= resp_rate <= 20:\n",
    "        print(0)\n",
    "    elif 21 <= resp_rate <= 24:\n",
    "        print(2)\n",
    "    else:\n",
    "        print(3)\n",
    "NEWS_Calculator(15)"
   ]
  },
  {
   "cell_type": "markdown",
   "metadata": {},
   "source": [
    "In the function definition, you can also specify **default values** for your arguments like so `def my_function(x=5):`. This means that the value `x` will be set to 5 in the function if a value is not **passed** into it when the function is called. Another useful argument is one that allows a variable number of values to be passed in. It can be defined in the function variable as such `def my_function(*some_values):`. Note the `*` before the argument in the brackets. In the function you can then access the arbitrary list of values passed to the function as a **tuple** in the function. A **tuple** is like a list, but is **immutable**, which means you can't change it once you assign the values.  \n",
    "  \n",
    "Modify the `NEWS_Calculator` function to include a default value for Level of Consciousness and incorporate it into the overall score."
   ]
  },
  {
   "cell_type": "code",
   "execution_count": null,
   "metadata": {},
   "outputs": [],
   "source": [
    "# Put your code here"
   ]
  },
  {
   "cell_type": "markdown",
   "metadata": {},
   "source": [
    "## Letting functions influence other parts of your program\n",
    "Up to this point, we have been using `print` to view what is happening in a function. However, if you try printing the output of your function like so, you will receive `None`"
   ]
  },
  {
   "cell_type": "code",
   "execution_count": null,
   "metadata": {},
   "outputs": [],
   "source": [
    "print(NEWS_Calculator(15,80))"
   ]
  },
  {
   "cell_type": "markdown",
   "metadata": {},
   "source": [
    "`None` is a special **data type** that signals the absence of any value. It is returned by functions unless you specify a **return** value, and can be used to create variables even if you do not know what value to assign to them yet. A return value is required if you want to communicate information out of the function. For instance try and to modify the variable `x` below using a function.  \n",
    "1. Create a variable `x` and assign an integer to it\n",
    "2. Create a function `x` that adds some integer to it\n",
    "3. Print the value of `x` **inside** the function\n",
    "4. Call the function\n",
    "5. Print the value of `x` **outside** the function"
   ]
  },
  {
   "cell_type": "code",
   "execution_count": null,
   "metadata": {},
   "outputs": [],
   "source": [
    "# Put your code here"
   ]
  },
  {
   "cell_type": "markdown",
   "metadata": {},
   "source": [
    "However, in some cases, such as lists, you can modify them from within a function.  \n",
    "1. Create a list of integers.\n",
    "2. Write a function that appends a value to the list like so `my_list.append(some_value)`\n",
    "3. Call the function\n",
    "4. Print the list"
   ]
  },
  {
   "cell_type": "code",
   "execution_count": null,
   "metadata": {},
   "outputs": [],
   "source": [
    "# Put your code here"
   ]
  },
  {
   "cell_type": "markdown",
   "metadata": {},
   "source": [
    "In order to get **output** from your function, use the `return` statement"
   ]
  },
  {
   "cell_type": "code",
   "execution_count": null,
   "metadata": {},
   "outputs": [],
   "source": [
    "def my_function(x):\n",
    "    return x + 5\n",
    "print(my_function(5))"
   ]
  },
  {
   "cell_type": "markdown",
   "metadata": {},
   "source": [
    "Returning a value is useful for allowing your program to work with your function's output.  \n",
    "1. Modify your `NEWS_Calculator` function to return the NEWS score\n",
    "2. Print the score **outside** of the function "
   ]
  },
  {
   "cell_type": "code",
   "execution_count": null,
   "metadata": {},
   "outputs": [],
   "source": [
    "# Put your code here"
   ]
  },
  {
   "cell_type": "markdown",
   "metadata": {},
   "source": [
    "## More complex uses of functions - Recursion\n",
    "While it is useful to substitute for a particular block of code. There are other interesting things you can do with them. For instance **recursion** is the act of **calling** a function **within** itself. This is frequently used in **functional programming** where recursion is used to replace loops. Recursion and a functional approach to problems often allows for a much more concise and elegant expression than **imperative programming** which is the style that you have been using up till now, where code is executed sequentially in a linear fashion. A simple example would be writing a recursive function to determine if a string is a palindrome. A palindrome is a sequence which reads the same forwards and backwards, and is commonly a property of the target sequence of restriction enzymes. Below is a schematic of how such a program might work.  \n",
    "![](img/recursionstack.jpg)  \n",
    "While the above algorithm could easily be implemented using loops, try to do so using recursion instead. All recursive algorithms must have a base/termination condition, or else it would continue to call itself forever, much like an infinite loop. A side note is that the blue arrows and boxes in the diagram above represent the **stack**, which is a memory structure in the computer that keeps track of the scope of various functions. When a function is called, all the variables and instructions coded in the function are bundled together into a **frame** (as in a box) and **pushed** onto the **stack**. When the function finishes its calculations, it is said to **resolve** and **returns** its output to the **frame** below it. In python, the default max height of the stack is 1024, so you cannot recursively call functions more than 1024 times before python gives you an error. If you wish, you can try implementing the algorithm using loops as well."
   ]
  },
  {
   "cell_type": "code",
   "execution_count": null,
   "metadata": {},
   "outputs": [],
   "source": [
    "# Put your code here"
   ]
  },
  {
   "cell_type": "markdown",
   "metadata": {},
   "source": [
    "## More complex uses of functions - Passing functions into functions\n",
    "Up till now, we have been passing only values such as integers, strings, and floats, as well as data structures like lists to functions. However, a function itself can be passed into a function. This is a property of **first order functions**, that they can be treated in the same way as values. If you define a function that accepts another function as an argument, then you have defined a **higher order function**. One of the advantages of such functions is the ability to generalise an algorithm even further, increasing the flexibility and reusability of your code. For example, if you are familiar the the **R programming language** and the various **apply** functions, you can see how the function **maps** whatever function you pass it to the vector/dataframe by appling the given function to each row/column/element of a vector/dataframe. Another use for such functions is to generalise sorting functions. Sorting functions can work on anything upon which a comparison can be made. While we have been comparing strings and numeric values, we may wish to compare more complex **objects** where there may be no obvious comparison. Instead of re-writing sorting functions with the same logic but different comparison operators, we can define a higher order sorting function that accepts the data and any **comparison function** that is suitable for the data. An example of integer comparison can be seen below. Run the program to see what happens."
   ]
  },
  {
   "cell_type": "code",
   "execution_count": null,
   "metadata": {},
   "outputs": [],
   "source": [
    "def insertion_sort(my_list, comp_func):\n",
    "    for i in range(1,len(my_list)):\n",
    "        for j in range(0,i):\n",
    "            if comp_func(my_list[i], my_list[j]):\n",
    "                my_list = my_list[0:j] + [my_list[i]] + my_list[j:i] + my_list[i+1:]\n",
    "                break\n",
    "    return my_list\n",
    "\n",
    "def integer_comparison(a,b):\n",
    "    return a < b\n",
    "\n",
    "insertion_sort([5,4,3,2,1], integer_comparison)"
   ]
  },
  {
   "cell_type": "markdown",
   "metadata": {},
   "source": [
    "However, in more complex applications, we may want to create **objects** and sort **objects** according to some criteria. An **object** is an instance of a **class** which is basically a template for how sets of **data** and **functions** should be organised. For example, we could create a **Patient_Record** class to combine all the information about a patient as well as functions used on said patient data such as calculating BMI or NEWS scores etc. However, if we wanted to sort the objects, python would need to know on what criteria to sort them. Run the program below to see what happens"
   ]
  },
  {
   "cell_type": "code",
   "execution_count": null,
   "metadata": {},
   "outputs": [],
   "source": [
    "# Define a template for all patient records\n",
    "class Patient_Record:\n",
    "    def __init__(self, rr, name): # Constructor to be called on patient record object creation\n",
    "        self.name = name\n",
    "        self.NEWS = self.NEWS_Calculator(rr)\n",
    "    def NEWS_Calculator(self, resp_rate): # Function to calculate NEWS from basic obs\n",
    "        if resp_rate <= 8:\n",
    "            return 3\n",
    "        elif 9 <= resp_rate <= 11:\n",
    "            return 1\n",
    "        elif 12 <= resp_rate <= 20:\n",
    "            return 0\n",
    "        elif 21 <= resp_rate <= 24:\n",
    "            return 1\n",
    "        else:\n",
    "            return 3\n",
    "    @staticmethod\n",
    "    def NEWS_sort(p1, p2): # Class function for determining sort order by NEWS\n",
    "        return p1.NEWS < p2.NEWS\n",
    "    @staticmethod\n",
    "    def Name_sort(p1, p2): # Class function for determining sort order by Name\n",
    "        return p1.name < p2.name\n",
    "\n",
    "patients = [Patient_Record(12, \"David\"), Patient_Record(7,\"Brandon\"), Patient_Record(11, \"Munetomo\")] # Create objects from class and place in list\n",
    "\n",
    "print(\"Sorted by NEWS\")\n",
    "for i in insertion_sort(patients, Patient_Record.NEWS_sort):\n",
    "    print(i.name)\n",
    "print(\"Sorted by Name\")\n",
    "for i in insertion_sort(patients, Patient_Record.Name_sort):\n",
    "    print(i.name)\n",
    "print(\"Original order\")\n",
    "for i in patients:\n",
    "    print(i.name)"
   ]
  },
  {
   "cell_type": "markdown",
   "metadata": {},
   "source": [
    "## Summary\n",
    "In this tutorial we have covered the basic syntax around function in python and how to use them including  \n",
    "1. Function arguments, default values, and acceptance of arbitrary argument lists\n",
    "2. The concept of scope and the stack\n",
    "3. How functions can output values and be plugged into other parts of your programs\n",
    "4. Explored the concept of recursion\n",
    "5. Explored the concept of first order and higher order functions\n",
    "6. Hinted at the idea of **Object Oriented Programming**  \n",
    "\n",
    "This tutorial has been more abstract than the introductory tutorial, but hopefully has given you some idea of some computational approaches to problems. There will be some exercises below to help you go over content in the tutorial and also further explore some fundamental computer science concepts.\n",
    "\n",
    "## Exercises\n",
    "### Full NEWS implementation\n",
    "In the tutorial we discussed how you could call a function within itself. You may have already guessed this, but you can also call functions within other functions. The NEWS metric is based on 7 different variables, each with its own conditions. Rather than code a monolithic NEWS function, how can you use functions to decompose the NEWS function further?  \n",
    "![](img/news.jpg)  "
   ]
  },
  {
   "cell_type": "code",
   "execution_count": null,
   "metadata": {},
   "outputs": [],
   "source": [
    "# Code your NEWS function here\n",
    "    "
   ]
  },
  {
   "cell_type": "markdown",
   "metadata": {},
   "source": [
    "Can you think what advantages there might be to decomposing the NEWS function? What happens if we decided to create a NEWS metric for say young children and everything was the same but respiratory rate and heart rate had to be adjusted to account for the normal higher rates in young children? Can you implement a NEWS for children adjusted for increased heart rate and respiratory rate? **(note this is not meant to be medically accurate it is just for the exercise)**"
   ]
  },
  {
   "cell_type": "code",
   "execution_count": null,
   "metadata": {},
   "outputs": [],
   "source": [
    "# Code your NEWS for children function here"
   ]
  },
  {
   "cell_type": "markdown",
   "metadata": {},
   "source": [
    "### Impatience in the waiting room\n",
    "You arrive at your GP surgery and are informed that the electronic scheduling system has broken down. The reception hands you a file of patients that you need to see for the day. Unfortunately it is organised according to the alphabetical order of the patients' names rather than their appointment times. You remember previously solving this problem, but unfortunately implemented a rather naive algorithm that ran in **O(n^2)** time. As a result, you took too long to sort the appointment times and the patients got pissed off. You hear from the receptionist that the patients will not stand for anything more than **O(nlogn)** of waiting time before you start seeing the first patient. Sort the patient names according to the appointment times in **O(nlogn)** time and without using any pre-existing sorting functions. It may be helpful to see the notes below before trying to implement the algorithm."
   ]
  },
  {
   "cell_type": "code",
   "execution_count": null,
   "metadata": {},
   "outputs": [],
   "source": [
    "# List of patient names\n",
    "Patient_Names = [\"Asanish\", \"Beth\", \"Charlie\", \"David\", \"Eduarda\", \"Frank\", \"Gareth\", \"Haily\", \"Izzy\", \"Jonathan\", \"Kosi\", \"Lucy\", \"Munetomo\", \"Neel\"]\n",
    "# Patient Appointment Times (order of the lists match each other)\n",
    "Appointment_Times = [\"1130\",\"1230\",\"0830\",\"0800\",\"1600\",\"1500\",\"1200\",\"0915\",\"1000\",\"1030\",\"1415\",\"1300\",\"1330\",\"1430\"]"
   ]
  },
  {
   "cell_type": "markdown",
   "metadata": {},
   "source": [
    "#### A note on Time Complexity\n",
    "A fundamental concept in computer science is that of the **time complexity** of algorithms. Time complexity is an estimate of the efficiency of an algorithm in terms of how long it will take to run and is often expressed as a **function** of the **size of the input**. There are several versions of time complexity, such as best-case time, average time, worst-case time and so on. A commonly used version is worst-case, and is often referred to as **Big-O notation** as seen above **O(n^2)** and **O(nlogn)**. There is also a **space complexity** which refers to the efficiency of an algorithm in terms of how much memory it requires to run. There tends to be less emphasis on this, as memory is often not the limiting factor for algorithms. However, in cases of **big data** both space and time complexity need to be considered and increasingly algorithms need to be both space and time efficient.  \n",
    "\n",
    "How do you determine what the time complexity of an algorithm is? One very rough way is to look at how many nested for loops there are that run on the input data. If you look at the insertion sort below, how many nested for loops can you see. If the size of the list input is n, and in a for loop, each element must be processed, increasing the input size by 1 would increase processing time by 1 as well, resulting in a running time of **O(n+1)**. However, in complexity analysis only the order of the expression matters, so constants are dropped, so a single for loop has a time complexity of **O(n)** because as you increase the input size, the time taken **increases linearly**. However, if you have nested for loops, both running on the input, increasing the size by 1 will result in an increase in running time of **2n + 1**, which is not linear. If the time complexity of the algorithm was **O(n^2)** increasing the input size by 1 would give **O((n+1)^2)** which is equivalent to **O(n^2 + 2n +1)**. However, once again we simplify the notation by only taking the term with the highest impact as n tends to infinite and we get **O(n^2)**."
   ]
  },
  {
   "cell_type": "code",
   "execution_count": null,
   "metadata": {},
   "outputs": [],
   "source": [
    "def insertion_sort(my_list, comp_func):\n",
    "    for i in range(1,len(my_list)): # First for loop\n",
    "        for j in range(0,i): # Second for loop\n",
    "            if comp_func(my_list[i], my_list[j]):\n",
    "                my_list = my_list[0:j] + [my_list[i]] + my_list[j:i] + my_list[i+1:]\n",
    "                break\n",
    "    return my_list"
   ]
  },
  {
   "cell_type": "markdown",
   "metadata": {},
   "source": [
    "However, if you look at the algorithm above, it is not quite running on the input twice, as there is a `break` and the inner for loop only loops from 0 to i, and not the full list input. The inner loop will terminate early in the event that `my_list[i]` is less than `my_list[j]` before `j` increments to `i-1`, saving some computation. However, **Big-O** notation is a measure of the **worse-case time** so we assume that in every loop, `j` will increment to `i-1`. In this case, the number of iterations performed will be 1 + 2 + 3 + ... + n, which is the sum of the arithmetic series, which has the formula of $\\frac{n(2a + (n-1)d)}{2}$ where in this case a is 1 and d is 1 so $\\frac{n(1 + n)}{2} = \\frac{n^2 + n}{2}$. As you can see the leading order term is $n^2$"
   ]
  },
  {
   "cell_type": "markdown",
   "metadata": {},
   "source": [
    "#### Divide and Conquer (Mergesort)\n",
    "A common approach for developing efficient algorithms is to use the **divide and conquer** approach. This approach works when the problem can be decomposed into 2 or more sub-problems which are then decomposed and so on until solving the sub-problem becomes trivial. The process of dividing the problem into 2 or more sub-problems creates a **tree**  of related problems which is naturally expressed through the use of **recursion**.  \n",
    "![](img/mergesortsubdivide.jpg)  \n",
    "![](img/mergesortmerge.jpg)"
   ]
  }
 ],
 "metadata": {
  "kernelspec": {
   "display_name": "Python 3",
   "language": "python",
   "name": "python3"
  },
  "language_info": {
   "codemirror_mode": {
    "name": "ipython",
    "version": 3
   },
   "file_extension": ".py",
   "mimetype": "text/x-python",
   "name": "python",
   "nbconvert_exporter": "python",
   "pygments_lexer": "ipython3",
   "version": "3.7.0"
  }
 },
 "nbformat": 4,
 "nbformat_minor": 2
}
